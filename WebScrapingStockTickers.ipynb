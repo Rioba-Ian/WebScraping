{
  "nbformat": 4,
  "nbformat_minor": 0,
  "metadata": {
    "colab": {
      "name": "WebScrapingStockTickers.ipynb",
      "provenance": [],
      "authorship_tag": "ABX9TyP3sHbYSzRDlnTLLXstSceQ",
      "include_colab_link": true
    },
    "kernelspec": {
      "name": "python3",
      "display_name": "Python 3"
    }
  },
  "cells": [
    {
      "cell_type": "markdown",
      "metadata": {
        "id": "view-in-github",
        "colab_type": "text"
      },
      "source": [
        "<a href=\"https://colab.research.google.com/github/Rioba-Ian/WebScraping/blob/main/WebScrapingStockTickers.ipynb\" target=\"_parent\"><img src=\"https://colab.research.google.com/assets/colab-badge.svg\" alt=\"Open In Colab\"/></a>"
      ]
    },
    {
      "cell_type": "markdown",
      "metadata": {
        "id": "eoQhnOasSqXz"
      },
      "source": [
        "#We are going to scrape stock tickers from a company's website"
      ]
    },
    {
      "cell_type": "code",
      "metadata": {
        "id": "qtMM7fcnSa5-"
      },
      "source": [
        "# Import the dependencies\n",
        "\n",
        "import requests\n",
        "import pandas as pd\n",
        "from bs4 import BeautifulSoup"
      ],
      "execution_count": 1,
      "outputs": []
    },
    {
      "cell_type": "code",
      "metadata": {
        "id": "kC2OkC43TH8b"
      },
      "source": [
        "# Create two empty lists for the company name and company ticker/symbol\n",
        "company_name = []\n",
        "company_ticker = []\n"
      ],
      "execution_count": 26,
      "outputs": []
    },
    {
      "cell_type": "code",
      "metadata": {
        "id": "dNA-ujYvUv44"
      },
      "source": [
        "URL = 'https://www.advfn.com/nyse/newyorkstockexchange.asp?companies=A'\n",
        "page = requests.get(URL)\n",
        "soup = BeautifulSoup(page.text,'html.parser')\n",
        "odd_rows = soup.find_all('tr',attrs={'class':'ts0'})\n",
        "even_rows = soup.find_all('tr',attrs={'class':'ts1'})"
      ],
      "execution_count": 11,
      "outputs": []
    },
    {
      "cell_type": "code",
      "metadata": {
        "id": "N5oaeIngVSa5"
      },
      "source": [
        "for i in odd_rows:\n",
        "    row = i.find_all('td')\n",
        "    company_name.append(row[0].text.strip()) #Company name\n",
        "    company_ticker.append(row[1].text.strip()) #Ticker\n",
        "\n",
        "for i in even_rows:\n",
        "    row = i.find_all('td')\n",
        "    company_name.append(row[0].text.strip()) #Company name\n",
        "    company_ticker.append(row[1].text.strip()) #Ticker"
      ],
      "execution_count": 19,
      "outputs": []
    },
    {
      "cell_type": "code",
      "metadata": {
        "id": "EeBfRPTnVi0z"
      },
      "source": [
        "# Create a function to scrape the data\n",
        "def scrape_stock_symbols(Letter):\n",
        "    Letter = Letter.upper()\n",
        "    URL = 'https://www.advfn.com/nyse/newyorkstockexchange.asp?companies='+Letter\n",
        "    page = requests.get(URL)\n",
        "    soup = BeautifulSoup(page.text,'html.parser')\n",
        "    odd_rows = soup.find_all('tr',attrs={'class':'ts0'})\n",
        "    even_rows = soup.find_all('tr',attrs={'class':'ts1'})\n",
        "\n",
        "    for i in odd_rows:\n",
        "        row = i.find_all('td')\n",
        "        company_name.append(row[0].text.strip()) #Company name\n",
        "        company_ticker.append(row[1].text.strip()) #Ticker\n",
        "\n",
        "    for i in even_rows:\n",
        "        row = i.find_all('td')\n",
        "        company_name.append(row[0].text.strip()) #Company name\n",
        "        company_ticker.append(row[1].text.strip()) #Ticker\n",
        "\n",
        "    return (company_name,company_ticker)"
      ],
      "execution_count": 21,
      "outputs": []
    },
    {
      "cell_type": "code",
      "metadata": {
        "id": "o3in9a5NaFSX"
      },
      "source": [
        "(temp_name, temp_ticker) = scrape_stock_symbols('b')\n",
        "temp_name"
      ],
      "execution_count": null,
      "outputs": []
    },
    {
      "cell_type": "code",
      "metadata": {
        "id": "CAiBLW7JbrMu",
        "outputId": "9f745de0-d5a7-47b3-ce9f-bcef485ba4c8",
        "colab": {
          "base_uri": "https://localhost:8080/",
          "height": 36
        }
      },
      "source": [
        "# get a list of every letter in the alphabet\n",
        "import string\n",
        "string.ascii_uppercase"
      ],
      "execution_count": 25,
      "outputs": [
        {
          "output_type": "execute_result",
          "data": {
            "application/vnd.google.colaboratory.intrinsic+json": {
              "type": "string"
            },
            "text/plain": [
              "'ABCDEFGHIJKLMNOPQRSTUVWXYZ'"
            ]
          },
          "metadata": {
            "tags": []
          },
          "execution_count": 25
        }
      ]
    },
    {
      "cell_type": "code",
      "metadata": {
        "id": "DqT962zGcaVo"
      },
      "source": [
        "# Loop through every letter in the alphabet to get all the tickers and company names from the website\n",
        "for char in string.ascii_uppercase:\n",
        "    (temp_name, temp_ticker) = scrape_stock_symbols(char)"
      ],
      "execution_count": 27,
      "outputs": []
    },
    {
      "cell_type": "code",
      "metadata": {
        "id": "3ua1nwLFdYFS",
        "outputId": "060c9109-577b-401a-b818-a136cef6f571",
        "colab": {
          "base_uri": "https://localhost:8080/",
          "height": 424
        }
      },
      "source": [
        "# Create a dataframe that contains the company name and the company ticker\n",
        "data = pd.DataFrame(columns=['company_name','company_ticker'])\n",
        "data['company_name']  = temp_name\n",
        "data['company_ticker'] = temp_ticker\n",
        "# show dataframe\n",
        "data"
      ],
      "execution_count": 30,
      "outputs": [
        {
          "output_type": "execute_result",
          "data": {
            "text/html": [
              "<div>\n",
              "<style scoped>\n",
              "    .dataframe tbody tr th:only-of-type {\n",
              "        vertical-align: middle;\n",
              "    }\n",
              "\n",
              "    .dataframe tbody tr th {\n",
              "        vertical-align: top;\n",
              "    }\n",
              "\n",
              "    .dataframe thead th {\n",
              "        text-align: right;\n",
              "    }\n",
              "</style>\n",
              "<table border=\"1\" class=\"dataframe\">\n",
              "  <thead>\n",
              "    <tr style=\"text-align: right;\">\n",
              "      <th></th>\n",
              "      <th>company_name</th>\n",
              "      <th>company_ticker</th>\n",
              "    </tr>\n",
              "  </thead>\n",
              "  <tbody>\n",
              "    <tr>\n",
              "      <th>0</th>\n",
              "      <td>A K Steel</td>\n",
              "      <td>AKS</td>\n",
              "    </tr>\n",
              "    <tr>\n",
              "      <th>1</th>\n",
              "      <td>A M R Cp 7.875</td>\n",
              "      <td>AAR</td>\n",
              "    </tr>\n",
              "    <tr>\n",
              "      <th>2</th>\n",
              "      <td>A a R</td>\n",
              "      <td>AIR</td>\n",
              "    </tr>\n",
              "    <tr>\n",
              "      <th>3</th>\n",
              "      <td>Aaron Rents</td>\n",
              "      <td>RNT.A</td>\n",
              "    </tr>\n",
              "    <tr>\n",
              "      <th>4</th>\n",
              "      <td>Aarons Cl A</td>\n",
              "      <td>AAN.A</td>\n",
              "    </tr>\n",
              "    <tr>\n",
              "      <th>...</th>\n",
              "      <td>...</td>\n",
              "      <td>...</td>\n",
              "    </tr>\n",
              "    <tr>\n",
              "      <th>2455</th>\n",
              "      <td>Zale</td>\n",
              "      <td>ZLC</td>\n",
              "    </tr>\n",
              "    <tr>\n",
              "      <th>2456</th>\n",
              "      <td>Zenith</td>\n",
              "      <td>ZNT</td>\n",
              "    </tr>\n",
              "    <tr>\n",
              "      <th>2457</th>\n",
              "      <td></td>\n",
              "      <td></td>\n",
              "    </tr>\n",
              "    <tr>\n",
              "      <th>2458</th>\n",
              "      <td>Zapata</td>\n",
              "      <td>ZAP</td>\n",
              "    </tr>\n",
              "    <tr>\n",
              "      <th>2459</th>\n",
              "      <td>Zep</td>\n",
              "      <td>ZEP</td>\n",
              "    </tr>\n",
              "  </tbody>\n",
              "</table>\n",
              "<p>2460 rows × 2 columns</p>\n",
              "</div>"
            ],
            "text/plain": [
              "        company_name company_ticker\n",
              "0          A K Steel            AKS\n",
              "1     A M R Cp 7.875            AAR\n",
              "2              A a R            AIR\n",
              "3        Aaron Rents          RNT.A\n",
              "4        Aarons Cl A          AAN.A\n",
              "...              ...            ...\n",
              "2455            Zale            ZLC\n",
              "2456          Zenith            ZNT\n",
              "2457                               \n",
              "2458          Zapata            ZAP\n",
              "2459             Zep            ZEP\n",
              "\n",
              "[2460 rows x 2 columns]"
            ]
          },
          "metadata": {
            "tags": []
          },
          "execution_count": 30
        }
      ]
    },
    {
      "cell_type": "code",
      "metadata": {
        "id": "AkKmsggQdZy3",
        "outputId": "2d998979-669a-4fd6-d860-1c212d127a06",
        "colab": {
          "base_uri": "https://localhost:8080/",
          "height": 424
        }
      },
      "source": [
        "# Clean the data\n",
        "data = data[data['company_name'] != '']\n",
        "# show data\n",
        "data"
      ],
      "execution_count": 31,
      "outputs": [
        {
          "output_type": "execute_result",
          "data": {
            "text/html": [
              "<div>\n",
              "<style scoped>\n",
              "    .dataframe tbody tr th:only-of-type {\n",
              "        vertical-align: middle;\n",
              "    }\n",
              "\n",
              "    .dataframe tbody tr th {\n",
              "        vertical-align: top;\n",
              "    }\n",
              "\n",
              "    .dataframe thead th {\n",
              "        text-align: right;\n",
              "    }\n",
              "</style>\n",
              "<table border=\"1\" class=\"dataframe\">\n",
              "  <thead>\n",
              "    <tr style=\"text-align: right;\">\n",
              "      <th></th>\n",
              "      <th>company_name</th>\n",
              "      <th>company_ticker</th>\n",
              "    </tr>\n",
              "  </thead>\n",
              "  <tbody>\n",
              "    <tr>\n",
              "      <th>0</th>\n",
              "      <td>A K Steel</td>\n",
              "      <td>AKS</td>\n",
              "    </tr>\n",
              "    <tr>\n",
              "      <th>1</th>\n",
              "      <td>A M R Cp 7.875</td>\n",
              "      <td>AAR</td>\n",
              "    </tr>\n",
              "    <tr>\n",
              "      <th>2</th>\n",
              "      <td>A a R</td>\n",
              "      <td>AIR</td>\n",
              "    </tr>\n",
              "    <tr>\n",
              "      <th>3</th>\n",
              "      <td>Aaron Rents</td>\n",
              "      <td>RNT.A</td>\n",
              "    </tr>\n",
              "    <tr>\n",
              "      <th>4</th>\n",
              "      <td>Aarons Cl A</td>\n",
              "      <td>AAN.A</td>\n",
              "    </tr>\n",
              "    <tr>\n",
              "      <th>...</th>\n",
              "      <td>...</td>\n",
              "      <td>...</td>\n",
              "    </tr>\n",
              "    <tr>\n",
              "      <th>2453</th>\n",
              "      <td>Yamana Gold Inc.</td>\n",
              "      <td>AUY</td>\n",
              "    </tr>\n",
              "    <tr>\n",
              "      <th>2455</th>\n",
              "      <td>Zale</td>\n",
              "      <td>ZLC</td>\n",
              "    </tr>\n",
              "    <tr>\n",
              "      <th>2456</th>\n",
              "      <td>Zenith</td>\n",
              "      <td>ZNT</td>\n",
              "    </tr>\n",
              "    <tr>\n",
              "      <th>2458</th>\n",
              "      <td>Zapata</td>\n",
              "      <td>ZAP</td>\n",
              "    </tr>\n",
              "    <tr>\n",
              "      <th>2459</th>\n",
              "      <td>Zep</td>\n",
              "      <td>ZEP</td>\n",
              "    </tr>\n",
              "  </tbody>\n",
              "</table>\n",
              "<p>2168 rows × 2 columns</p>\n",
              "</div>"
            ],
            "text/plain": [
              "          company_name company_ticker\n",
              "0            A K Steel            AKS\n",
              "1       A M R Cp 7.875            AAR\n",
              "2                A a R            AIR\n",
              "3          Aaron Rents          RNT.A\n",
              "4          Aarons Cl A          AAN.A\n",
              "...                ...            ...\n",
              "2453  Yamana Gold Inc.            AUY\n",
              "2455              Zale            ZLC\n",
              "2456            Zenith            ZNT\n",
              "2458            Zapata            ZAP\n",
              "2459               Zep            ZEP\n",
              "\n",
              "[2168 rows x 2 columns]"
            ]
          },
          "metadata": {
            "tags": []
          },
          "execution_count": 31
        }
      ]
    },
    {
      "cell_type": "code",
      "metadata": {
        "id": "hvWBG3lNeqTE"
      },
      "source": [
        ""
      ],
      "execution_count": null,
      "outputs": []
    }
  ]
}